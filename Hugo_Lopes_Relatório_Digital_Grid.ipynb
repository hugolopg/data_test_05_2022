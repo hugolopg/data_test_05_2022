{
  "nbformat": 4,
  "nbformat_minor": 0,
  "metadata": {
    "colab": {
      "name": "Hugo_Lopes_Relatório_Digital_Grid.ipynb",
      "provenance": [],
      "collapsed_sections": [],
      "authorship_tag": "ABX9TyMBvJMqVJxu6d4Q4AzagL91",
      "include_colab_link": true
    },
    "kernelspec": {
      "name": "python3",
      "display_name": "Python 3"
    },
    "language_info": {
      "name": "python"
    }
  },
  "cells": [
    {
      "cell_type": "markdown",
      "metadata": {
        "id": "view-in-github",
        "colab_type": "text"
      },
      "source": [
        "<a href=\"https://colab.research.google.com/github/hugolopg/data_test_05_2022/blob/main/Hugo_Lopes_Relat%C3%B3rio_Digital_Grid.ipynb\" target=\"_parent\"><img src=\"https://colab.research.google.com/assets/colab-badge.svg\" alt=\"Open In Colab\"/></a>"
      ]
    },
    {
      "cell_type": "markdown",
      "source": [
        "# Relatório sobre produção de energia solar de duas usinas ao longo do dia.\n",
        "\n",
        "A energia solar varia sua produção de acordo com a incidência solar nas placas, que é afetada por nuvens e a posição do sol no céu. Sendo os horários mais próximos a meio dia com a melhor incidência solar. Neste relatório será analisado os valores de produção entre duas usinas solares nos seguintes horários do dia:\n",
        "A = 00h00 - 07h59\n",
        "B = 08h00 - 15h59\n",
        "C = 16h00 - 23h59"
      ],
      "metadata": {
        "id": "D4aVbs0KKj7I"
      }
    },
    {
      "cell_type": "markdown",
      "source": [
        "##Carregando o banco de dados"
      ],
      "metadata": {
        "id": "4eDH07HKLJUU"
      }
    },
    {
      "cell_type": "code",
      "execution_count": 35,
      "metadata": {
        "colab": {
          "base_uri": "https://localhost:8080/"
        },
        "id": "mG5m7j4rGZBu",
        "outputId": "d4a40ab5-2d09-4552-f011-e3745baf9e59"
      },
      "outputs": [
        {
          "output_type": "stream",
          "name": "stdout",
          "text": [
            "         Horário  Usina 1  Usina 2\n",
            "0  16h00 - 23h59   231.84   580.44\n",
            "1  16h00 - 23h59   230.37   602.28\n",
            "2  16h00 - 23h59   250.53   557.76\n",
            "3  16h00 - 23h59    78.75   288.96\n",
            "4  08h00 - 15h59    -1.26    -2.52\n"
          ]
        }
      ],
      "source": [
        "import pandas as pd\n",
        "\n",
        "url = 'https://raw.githubusercontent.com/hugolopg/data_test_05_2022/main/data.csv'\n",
        "bd = pd.read_csv(url, index_col=0)\n",
        "bd['var'].replace('A', '00h00 - 07h59', inplace=True)\n",
        "bd['var'].replace('B', '08h00 - 15h59', inplace=True)\n",
        "bd['var'].replace('C', '16h00 - 23h59', inplace=True)\n",
        "bd = bd.rename(columns={'var': 'Horário','X': 'Usina 1', 'Y': 'Usina 2'})\n",
        "\n",
        "print(bd.head(5))"
      ]
    },
    {
      "cell_type": "markdown",
      "source": [
        "Ao visualizar os primeiros 5 valores nota-se que o banco de dados ou não está ordenado por dia, ou não há dados completos do dia. Também observa-se valores negativos de produção, o que aponta o gasto dos equipamentos da usina quando a incidência solar não é suficiente para suprir esse custo energético de operação."
      ],
      "metadata": {
        "id": "92kYuuxtS1Ll"
      }
    },
    {
      "cell_type": "markdown",
      "source": [
        "## Gerando dados estatísticos"
      ],
      "metadata": {
        "id": "SXTSA8JRO3ah"
      }
    },
    {
      "cell_type": "code",
      "source": [
        "# Média\n",
        "print('Média da produção de energia para cada usina e faixa de horário\\n')\n",
        "print('Faixa de horário|Usina 1|Usina 2')\n",
        "print('----------------|-------|-------')\n",
        "\n",
        "horas = ['00h00 - 07h59','08h00 - 15h59','16h00 - 23h59']\n",
        "\n",
        "for hora in horas:\n",
        "  Usina1 = bd.loc[bd['Horário'] == hora]['Usina 1'].mean()\n",
        "  Usina2 = bd.loc[bd['Horário'] == hora]['Usina 2'].mean()\n",
        "  print('%16s|%7.2f|%7.2f'%(hora,Usina1,Usina2))\n",
        "\n"
      ],
      "metadata": {
        "colab": {
          "base_uri": "https://localhost:8080/"
        },
        "id": "7kAyoNbgVTpw",
        "outputId": "06b66044-f8bf-4ae0-cc20-0529317849e8"
      },
      "execution_count": 54,
      "outputs": [
        {
          "output_type": "stream",
          "name": "stdout",
          "text": [
            "Média da produção de energia para cada usina e faixa de horário\n",
            "\n",
            "Faixa de horário|Usina 1|Usina 2\n",
            "----------------|-------|-------\n",
            "   00h00 - 07h59|  -1.26|  -2.49\n",
            "   08h00 - 15h59|  41.27| 101.01\n",
            "   16h00 - 23h59| 105.63| 250.71\n"
          ]
        }
      ]
    },
    {
      "cell_type": "markdown",
      "source": [
        "Ao verificar a média de produção para cada horário nota-se que no primeiro horário de 00h00 - 07h59 em média não é produtivo, gerando apenas perdas de energia, sendo então melhor não acionar a usina nesse horário.\n",
        "Também nota-se que a Usina 2 tem maior valor em módulo para todos os horários, o que indica que esta usina tem mais capacidade de geração de energia, assim como mais gasto absoluto para funcionamento.\n",
        "Outro ponto é a maior produção de energia do horário de 16h00 - 23h59, sendo que a maior parte desse período é noite, o que indica a posição não otimizada da usina solar, fazendo que a maior incidência seja no período da tarde. Isso pode ser resultado da angulação incorreta da placa solar ou então uma sombra de um morro, prédio ou montanha a leste das usinas solares. Também há a possibilidade das usinas estarem desligadas a maior parte do dia, entretando, para maior produção de energia, seria melhor mantê-las ativas durante o dia com um sistema off-grid (Baterias) ou on-grid (interligado à rede elétrica)."
      ],
      "metadata": {
        "id": "xTi2HUvYaPdR"
      }
    },
    {
      "cell_type": "code",
      "source": [
        "# Desvio Padrão\n",
        "print('Desvio padrão da produção de energia para cada usina e faixa de horário\\n')\n",
        "print('Faixa de horário|Usina 1|Usina 2')\n",
        "print('----------------|-------|-------')\n",
        "\n",
        "horas = ['00h00 - 07h59','08h00 - 15h59','16h00 - 23h59']\n",
        "\n",
        "for hora in horas:\n",
        "  Usina1 = bd.loc[bd['Horário'] == hora]['Usina 1'].std()\n",
        "  Usina2 = bd.loc[bd['Horário'] == hora]['Usina 2'].std()\n",
        "  print('%16s|%7.2f|%7.2f'%(hora,Usina1,Usina2))"
      ],
      "metadata": {
        "colab": {
          "base_uri": "https://localhost:8080/"
        },
        "id": "xZLFrrkkY6Uf",
        "outputId": "e8d7dc34-fdd0-4462-9c33-a59bb859dc8d"
      },
      "execution_count": 56,
      "outputs": [
        {
          "output_type": "stream",
          "name": "stdout",
          "text": [
            "Desvio padrão da produção de energia para cada usina e faixa de horário\n",
            "\n",
            "Faixa de horário|Usina 1|Usina 2\n",
            "----------------|-------|-------\n",
            "   00h00 - 07h59|   0.12|   0.73\n",
            "   08h00 - 15h59|  80.06| 199.81\n",
            "   16h00 - 23h59| 107.74| 273.57\n"
          ]
        }
      ]
    },
    {
      "cell_type": "markdown",
      "source": [
        "O desvio padrão da produção de energia são sempre maiores que a média para os últimos 2 horários, o que indica que a geração de energia não é constante nesses horários, o que pode ser resultado de dias ensolarados e nublados frequentes, afetando a produção. Para o primeiro horário o desvio padrão está mais próximo a 0, reforçando que, em geral, esse horário não é produtivo."
      ],
      "metadata": {
        "id": "roxL0bmJdRsB"
      }
    },
    {
      "cell_type": "code",
      "source": [
        "# Mínimos\n",
        "print('Mínimos da produção de energia para cada usina e faixa de horário\\n')\n",
        "print('Faixa de horário|Usina 1|Usina 2')\n",
        "print('----------------|-------|-------')\n",
        "\n",
        "horas = ['00h00 - 07h59','08h00 - 15h59','16h00 - 23h59']\n",
        "\n",
        "for hora in horas:\n",
        "  Usina1 = bd.loc[bd['Horário'] == hora]['Usina 1'].min()\n",
        "  Usina2 = bd.loc[bd['Horário'] == hora]['Usina 2'].min()\n",
        "  print('%16s|%7.2f|%7.2f'%(hora,Usina1,Usina2))"
      ],
      "metadata": {
        "colab": {
          "base_uri": "https://localhost:8080/"
        },
        "id": "TUZGkUf4Zz0T",
        "outputId": "fcaab91c-b460-4b6b-8306-367d1fe37bca"
      },
      "execution_count": 51,
      "outputs": [
        {
          "output_type": "stream",
          "name": "stdout",
          "text": [
            "Desvio padrão da produção de energia para cada usina e faixa de horário\n",
            "\n",
            "Faixa de horário|Usina 1|Usina 2\n",
            "   00h00 - 07h59|  -1.47|  -3.08\n",
            "   08h00 - 15h59|  -2.31|  -3.08\n",
            "   16h00 - 23h59|  -2.52|  -3.08\n"
          ]
        }
      ]
    },
    {
      "cell_type": "markdown",
      "source": [
        "Ao observar os valores mínimos para cada horário, nota-se que ambas as usinas em determinado momento não foram capazes de suprir nem o gasto de funcionamento. Para a Usina 2, o valor mínimo igual para todos os horários pode indicar a completa obstrução da luz para esta usina solar."
      ],
      "metadata": {
        "id": "-QgcsiZEehY9"
      }
    },
    {
      "cell_type": "code",
      "source": [
        "# Máximos\n",
        "print('Máximos da produção de energia para cada usina e faixa de horário\\n')\n",
        "print('Faixa de horário|Usina 1|Usina 2')\n",
        "print('----------------|-------|-------')\n",
        "\n",
        "horas = ['00h00 - 07h59','08h00 - 15h59','16h00 - 23h59']\n",
        "\n",
        "for hora in horas:\n",
        "  Usina1 = bd.loc[bd['Horário'] == hora]['Usina 1'].max()\n",
        "  Usina2 = bd.loc[bd['Horário'] == hora]['Usina 2'].max()\n",
        "  print('%16s|%7.2f|%7.2f'%(hora,Usina1,Usina2))"
      ],
      "metadata": {
        "colab": {
          "base_uri": "https://localhost:8080/"
        },
        "id": "x1CiMzDsZ8Zh",
        "outputId": "6819ed04-566e-4da3-8419-66ba41e0bc3b"
      },
      "execution_count": 58,
      "outputs": [
        {
          "output_type": "stream",
          "name": "stdout",
          "text": [
            "Máximos da produção de energia para cada usina e faixa de horário\n",
            "\n",
            "Faixa de horário|Usina 1|Usina 2\n",
            "----------------|-------|-------\n",
            "   00h00 - 07h59|   0.00|   0.00\n",
            "   08h00 - 15h59| 261.24| 653.24\n",
            "   16h00 - 23h59| 309.96| 662.76\n"
          ]
        }
      ]
    },
    {
      "cell_type": "markdown",
      "source": [
        "Ao verificar o máximo da produção de energia, percebe-se que o máximo de 0 para o horário de 00h00 - 07h59 indica que nesse horário não houve momento que a produção de energia superou os gastos. Provável motivo que resultou no desligamento das usinas para resultar o valor máximo ser exatamente 0."
      ],
      "metadata": {
        "id": "XQUTZBrPfcjc"
      }
    },
    {
      "cell_type": "code",
      "source": [
        "# Correlação de Pearson\n",
        "import numpy as np\n",
        "\n",
        "print('Coeficientes de correlação de Pearson entre as usinas para cada faixa de horário\\n')\n",
        "print('Faixa de horário|Coeficiente de Pearson')\n",
        "print('----------------|----------------------')\n",
        "\n",
        "horas = ['00h00 - 07h59','08h00 - 15h59','16h00 - 23h59']\n",
        "\n",
        "for hora in horas:\n",
        "  pearson = np.corrcoef(bd.loc[bd['Horário'] == hora]['Usina 1'],bd.loc[bd['Horário'] == hora]['Usina 2'])[0][1]\n",
        "  print('%16s|%22.2f'%(hora,pearson))"
      ],
      "metadata": {
        "colab": {
          "base_uri": "https://localhost:8080/"
        },
        "id": "rIztzR5mhBEK",
        "outputId": "38d04ba7-97c1-4a40-8adf-e382df49569a"
      },
      "execution_count": 68,
      "outputs": [
        {
          "output_type": "stream",
          "name": "stdout",
          "text": [
            "Coeficientes de correlação de Pearson entre as usinas para cada faixa de horário\n",
            "\n",
            "Faixa de horário|Coeficiente de Pearson\n",
            "----------------|----------------------\n",
            "   00h00 - 07h59|                 -0.03\n",
            "   08h00 - 15h59|                  0.91\n",
            "   16h00 - 23h59|                  0.85\n"
          ]
        }
      ]
    },
    {
      "cell_type": "markdown",
      "source": [
        "Com o coeficiente de correlação de pearson, nota-se que para os horários onde há maior produção, há correlação entre a produção das usinas, o que indica que ambas têm incidência solar semelhantes, indicando que ambas as usinas possuem o mesmo problema dos indicados acima e possivelmente são próximas uma da outra."
      ],
      "metadata": {
        "id": "_xLeXOhhlmBK"
      }
    }
  ]
}